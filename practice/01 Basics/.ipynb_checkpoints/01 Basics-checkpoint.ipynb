{
 "cells": [
  {
   "cell_type": "markdown",
   "metadata": {
    "id": "lo_4TuKQ7Rvi"
   },
   "source": [
    "# Анализ и прогнозирование временных рядов методами искусственного интеллекта\n",
    "\n",
    "## **Практическая работа 1. Метрики и меры схожести между временными рядами.**"
   ]
  },
  {
   "cell_type": "markdown",
   "metadata": {
    "id": "5x4KJjWOr5Rm"
   },
   "source": [
    "Смените рабочую директорию с помощью команды `chdir()`. Для этого передайте этой команде свой путь до каталога, в котором содержатся материалы первой практической работы. После выполнения этой команды все последующие операции с файлами и каталогами будут производиться относительно указанного каталога."
   ]
  },
  {
   "cell_type": "code",
   "execution_count": 1,
   "metadata": {
    "id": "5jsToCkfFWdU"
   },
   "outputs": [],
   "source": [
    "import os\n",
    "\n",
    "practice_dir_path = r'C:\\Users\\Пользователь\\2025-Pavlenko-TimeSeriesCourse\\practice\\01 Basics'\n",
    "os.chdir(practice_dir_path)"
   ]
  },
  {
   "cell_type": "markdown",
   "metadata": {
    "id": "ok0wnfndt97x"
   },
   "source": [
    "Выполните команды, которые автоматически перезагружают все импортированные модули при их изменении."
   ]
  },
  {
   "cell_type": "code",
   "execution_count": 4,
   "metadata": {
    "id": "HUZGrGwdL4_4"
   },
   "outputs": [],
   "source": [
    "%load_ext autoreload\n",
    "%autoreload 2"
   ]
  },
  {
   "cell_type": "markdown",
   "metadata": {
    "id": "huPpzXLq814_"
   },
   "source": [
    "Импортируйте библиотеки и модули, необходимые для реализации практической работы 1."
   ]
  },
  {
   "cell_type": "code",
   "execution_count": 7,
   "metadata": {
    "id": "GMYZSsnptoaP"
   },
   "outputs": [
    {
     "name": "stdout",
     "output_type": "stream",
     "text": [
      "Collecting sktime\n",
      "  Downloading sktime-0.39.0-py3-none-any.whl.metadata (32 kB)\n",
      "Requirement already satisfied: joblib<1.6,>=1.2.0 in d:\\anaconda\\lib\\site-packages (from sktime) (1.4.2)\n",
      "Requirement already satisfied: numpy<2.4,>=1.21 in d:\\anaconda\\lib\\site-packages (from sktime) (1.26.4)\n",
      "Requirement already satisfied: packaging in d:\\anaconda\\lib\\site-packages (from sktime) (23.2)\n",
      "Requirement already satisfied: pandas<2.4.0,>=1.1 in d:\\anaconda\\lib\\site-packages (from sktime) (2.2.2)\n",
      "Collecting scikit-base<0.13.0,>=0.6.1 (from sktime)\n",
      "  Downloading scikit_base-0.12.6-py3-none-any.whl.metadata (8.8 kB)\n",
      "Requirement already satisfied: scikit-learn<1.8.0,>=0.24 in d:\\anaconda\\lib\\site-packages (from sktime) (1.4.2)\n",
      "Requirement already satisfied: scipy<2.0.0,>=1.2 in d:\\anaconda\\lib\\site-packages (from sktime) (1.13.1)\n",
      "Requirement already satisfied: python-dateutil>=2.8.2 in d:\\anaconda\\lib\\site-packages (from pandas<2.4.0,>=1.1->sktime) (2.9.0.post0)\n",
      "Requirement already satisfied: pytz>=2020.1 in d:\\anaconda\\lib\\site-packages (from pandas<2.4.0,>=1.1->sktime) (2024.1)\n",
      "Requirement already satisfied: tzdata>=2022.7 in d:\\anaconda\\lib\\site-packages (from pandas<2.4.0,>=1.1->sktime) (2023.3)\n",
      "Requirement already satisfied: threadpoolctl>=2.0.0 in d:\\anaconda\\lib\\site-packages (from scikit-learn<1.8.0,>=0.24->sktime) (2.2.0)\n",
      "Requirement already satisfied: six>=1.5 in d:\\anaconda\\lib\\site-packages (from python-dateutil>=2.8.2->pandas<2.4.0,>=1.1->sktime) (1.16.0)\n",
      "Downloading sktime-0.39.0-py3-none-any.whl (35.6 MB)\n",
      "   ---------------------------------------- 0.0/35.6 MB ? eta -:--:--\n",
      "   ---------------------------------------- 0.0/35.6 MB 991.0 kB/s eta 0:00:36\n",
      "   ---------------------------------------- 0.1/35.6 MB 1.1 MB/s eta 0:00:34\n",
      "   ---------------------------------------- 0.2/35.6 MB 1.3 MB/s eta 0:00:28\n",
      "   ---------------------------------------- 0.2/35.6 MB 1.4 MB/s eta 0:00:25\n",
      "    --------------------------------------- 0.5/35.6 MB 2.1 MB/s eta 0:00:17\n",
      "    --------------------------------------- 0.7/35.6 MB 2.7 MB/s eta 0:00:13\n",
      "   - -------------------------------------- 1.0/35.6 MB 3.2 MB/s eta 0:00:11\n",
      "   - -------------------------------------- 1.2/35.6 MB 3.5 MB/s eta 0:00:10\n",
      "   - -------------------------------------- 1.4/35.6 MB 3.8 MB/s eta 0:00:10\n",
      "   - -------------------------------------- 1.4/35.6 MB 3.8 MB/s eta 0:00:10\n",
      "   - -------------------------------------- 1.4/35.6 MB 3.0 MB/s eta 0:00:12\n",
      "   - -------------------------------------- 1.4/35.6 MB 3.0 MB/s eta 0:00:12\n",
      "   - -------------------------------------- 1.4/35.6 MB 3.0 MB/s eta 0:00:12\n",
      "   -- ------------------------------------- 2.4/35.6 MB 4.1 MB/s eta 0:00:09\n",
      "   -- ------------------------------------- 2.4/35.6 MB 4.1 MB/s eta 0:00:09\n",
      "   -- ------------------------------------- 2.6/35.6 MB 3.7 MB/s eta 0:00:09\n",
      "   --- ------------------------------------ 3.0/35.6 MB 4.0 MB/s eta 0:00:09\n",
      "   --- ------------------------------------ 3.0/35.6 MB 4.0 MB/s eta 0:00:09\n",
      "   --- ------------------------------------ 3.0/35.6 MB 4.0 MB/s eta 0:00:09\n",
      "   ---- ----------------------------------- 4.0/35.6 MB 4.7 MB/s eta 0:00:07\n",
      "   ---- ----------------------------------- 4.0/35.6 MB 4.4 MB/s eta 0:00:08\n",
      "   ---- ----------------------------------- 4.4/35.6 MB 4.5 MB/s eta 0:00:07\n",
      "   ----- ---------------------------------- 4.6/35.6 MB 4.6 MB/s eta 0:00:07\n",
      "   ----- ---------------------------------- 5.0/35.6 MB 4.7 MB/s eta 0:00:07\n",
      "   ----- ---------------------------------- 5.3/35.6 MB 4.8 MB/s eta 0:00:07\n",
      "   ------ --------------------------------- 5.6/35.6 MB 4.9 MB/s eta 0:00:07\n",
      "   ------ --------------------------------- 5.9/35.6 MB 4.9 MB/s eta 0:00:07\n",
      "   ------- -------------------------------- 6.3/35.6 MB 5.1 MB/s eta 0:00:06\n",
      "   ------- -------------------------------- 6.6/35.6 MB 5.1 MB/s eta 0:00:06\n",
      "   ------- -------------------------------- 6.9/35.6 MB 5.2 MB/s eta 0:00:06\n",
      "   -------- ------------------------------- 7.2/35.6 MB 5.2 MB/s eta 0:00:06\n",
      "   -------- ------------------------------- 7.5/35.6 MB 5.3 MB/s eta 0:00:06\n",
      "   -------- ------------------------------- 7.8/35.6 MB 5.4 MB/s eta 0:00:06\n",
      "   --------- ------------------------------ 8.1/35.6 MB 5.4 MB/s eta 0:00:06\n",
      "   --------- ------------------------------ 8.6/35.6 MB 5.5 MB/s eta 0:00:05\n",
      "   ---------- ----------------------------- 9.0/35.6 MB 5.6 MB/s eta 0:00:05\n",
      "   ---------- ----------------------------- 9.4/35.6 MB 5.7 MB/s eta 0:00:05\n",
      "   ---------- ----------------------------- 9.7/35.6 MB 5.7 MB/s eta 0:00:05\n",
      "   ----------- ---------------------------- 10.0/35.6 MB 5.8 MB/s eta 0:00:05\n",
      "   ----------- ---------------------------- 10.5/35.6 MB 6.4 MB/s eta 0:00:04\n",
      "   ------------ --------------------------- 10.9/35.6 MB 6.5 MB/s eta 0:00:04\n",
      "   ------------ --------------------------- 11.4/35.6 MB 6.6 MB/s eta 0:00:04\n",
      "   ------------- -------------------------- 11.8/35.6 MB 7.7 MB/s eta 0:00:04\n",
      "   ------------- -------------------------- 12.4/35.6 MB 7.4 MB/s eta 0:00:04\n",
      "   -------------- ------------------------- 12.9/35.6 MB 7.8 MB/s eta 0:00:03\n",
      "   --------------- ------------------------ 13.4/35.6 MB 8.6 MB/s eta 0:00:03\n",
      "   --------------- ------------------------ 13.9/35.6 MB 8.2 MB/s eta 0:00:03\n",
      "   ---------------- ----------------------- 14.3/35.6 MB 8.4 MB/s eta 0:00:03\n",
      "   ---------------- ----------------------- 14.7/35.6 MB 8.4 MB/s eta 0:00:03\n",
      "   ----------------- ---------------------- 15.1/35.6 MB 8.7 MB/s eta 0:00:03\n",
      "   ----------------- ---------------------- 15.6/35.6 MB 8.7 MB/s eta 0:00:03\n",
      "   ------------------ --------------------- 16.1/35.6 MB 9.0 MB/s eta 0:00:03\n",
      "   ------------------ --------------------- 16.7/35.6 MB 9.1 MB/s eta 0:00:03\n",
      "   ------------------- -------------------- 17.1/35.6 MB 9.4 MB/s eta 0:00:02\n",
      "   ------------------- -------------------- 17.7/35.6 MB 9.6 MB/s eta 0:00:02\n",
      "   -------------------- ------------------- 18.2/35.6 MB 9.8 MB/s eta 0:00:02\n",
      "   -------------------- ------------------- 18.7/35.6 MB 9.9 MB/s eta 0:00:02\n",
      "   --------------------- ------------------ 19.1/35.6 MB 9.9 MB/s eta 0:00:02\n",
      "   --------------------- ------------------ 19.5/35.6 MB 9.9 MB/s eta 0:00:02\n",
      "   ---------------------- ----------------- 20.0/35.6 MB 10.1 MB/s eta 0:00:02\n",
      "   ---------------------- ----------------- 20.4/35.6 MB 10.2 MB/s eta 0:00:02\n",
      "   ----------------------- ---------------- 20.8/35.6 MB 10.4 MB/s eta 0:00:02\n",
      "   ----------------------- ---------------- 21.3/35.6 MB 10.2 MB/s eta 0:00:02\n",
      "   ------------------------ --------------- 21.9/35.6 MB 10.6 MB/s eta 0:00:02\n",
      "   ------------------------- -------------- 22.3/35.6 MB 10.2 MB/s eta 0:00:02\n",
      "   ------------------------- -------------- 22.8/35.6 MB 10.6 MB/s eta 0:00:02\n",
      "   -------------------------- ------------- 23.3/35.6 MB 10.2 MB/s eta 0:00:02\n",
      "   -------------------------- ------------- 23.8/35.6 MB 10.2 MB/s eta 0:00:02\n",
      "   --------------------------- ------------ 24.4/35.6 MB 10.4 MB/s eta 0:00:02\n",
      "   --------------------------- ------------ 24.9/35.6 MB 10.7 MB/s eta 0:00:01\n",
      "   ---------------------------- ----------- 25.5/35.6 MB 10.6 MB/s eta 0:00:01\n",
      "   ----------------------------- ---------- 26.0/35.6 MB 10.7 MB/s eta 0:00:01\n",
      "   ----------------------------- ---------- 26.4/35.6 MB 10.7 MB/s eta 0:00:01\n",
      "   ------------------------------ --------- 26.9/35.6 MB 10.6 MB/s eta 0:00:01\n",
      "   ------------------------------ --------- 27.5/35.6 MB 10.7 MB/s eta 0:00:01\n",
      "   ------------------------------- -------- 27.8/35.6 MB 10.4 MB/s eta 0:00:01\n",
      "   ------------------------------- -------- 28.4/35.6 MB 10.6 MB/s eta 0:00:01\n",
      "   -------------------------------- ------- 28.8/35.6 MB 10.6 MB/s eta 0:00:01\n",
      "   -------------------------------- ------- 29.3/35.6 MB 10.6 MB/s eta 0:00:01\n",
      "   --------------------------------- ------ 29.8/35.6 MB 10.7 MB/s eta 0:00:01\n",
      "   --------------------------------- ------ 30.1/35.6 MB 10.7 MB/s eta 0:00:01\n",
      "   ---------------------------------- ----- 30.7/35.6 MB 10.7 MB/s eta 0:00:01\n",
      "   ----------------------------------- ---- 31.2/35.6 MB 10.7 MB/s eta 0:00:01\n",
      "   ----------------------------------- ---- 31.8/35.6 MB 10.7 MB/s eta 0:00:01\n",
      "   ------------------------------------ --- 32.3/35.6 MB 10.9 MB/s eta 0:00:01\n",
      "   ------------------------------------ --- 32.8/35.6 MB 10.7 MB/s eta 0:00:01\n",
      "   ------------------------------------- -- 33.5/35.6 MB 10.9 MB/s eta 0:00:01\n",
      "   ------------------------------------- -- 33.8/35.6 MB 10.7 MB/s eta 0:00:01\n",
      "   -------------------------------------- - 34.3/35.6 MB 10.9 MB/s eta 0:00:01\n",
      "   ---------------------------------------  34.8/35.6 MB 10.7 MB/s eta 0:00:01\n",
      "   ---------------------------------------  35.3/35.6 MB 10.9 MB/s eta 0:00:01\n",
      "   ---------------------------------------  35.6/35.6 MB 10.9 MB/s eta 0:00:01\n",
      "   ---------------------------------------  35.6/35.6 MB 10.9 MB/s eta 0:00:01\n",
      "   ---------------------------------------- 35.6/35.6 MB 10.1 MB/s eta 0:00:00\n",
      "Downloading scikit_base-0.12.6-py3-none-any.whl (149 kB)\n",
      "   ---------------------------------------- 0.0/149.5 kB ? eta -:--:--\n",
      "   ---------------------------------------- 149.5/149.5 kB 4.4 MB/s eta 0:00:00\n",
      "Installing collected packages: scikit-base, sktime\n",
      "Successfully installed scikit-base-0.12.6 sktime-0.39.0\n"
     ]
    }
   ],
   "source": [
    "!pip install sktime"
   ]
  },
  {
   "cell_type": "code",
   "execution_count": 11,
   "metadata": {},
   "outputs": [
    {
     "name": "stdout",
     "output_type": "stream",
     "text": [
      "Collecting imutils\n",
      "  Downloading imutils-0.5.4.tar.gz (17 kB)\n",
      "  Preparing metadata (setup.py): started\n",
      "  Preparing metadata (setup.py): finished with status 'done'\n",
      "Building wheels for collected packages: imutils\n",
      "  Building wheel for imutils (setup.py): started\n",
      "  Building wheel for imutils (setup.py): finished with status 'done'\n",
      "  Created wheel for imutils: filename=imutils-0.5.4-py3-none-any.whl size=25855 sha256=3b1c644f210a56a3c432dd3eb64e7d018eb9eb5da824ec59c51080229457db65\n",
      "  Stored in directory: c:\\users\\пользователь\\appdata\\local\\pip\\cache\\wheels\\5b\\76\\96\\ad0c321506837bef578cf3008df3916c23018435a355d9f6b1\n",
      "Successfully built imutils\n",
      "Installing collected packages: imutils\n",
      "Successfully installed imutils-0.5.4\n",
      "Note: you may need to restart the kernel to use updated packages.\n"
     ]
    }
   ],
   "source": [
    "pip install imutils"
   ]
  },
  {
   "cell_type": "code",
   "execution_count": 21,
   "metadata": {
    "id": "CbWxHkjF8xYX"
   },
   "outputs": [
    {
     "ename": "ModuleNotFoundError",
     "evalue": "No module named 'google.colab'",
     "output_type": "error",
     "traceback": [
      "\u001b[1;31m---------------------------------------------------------------------------\u001b[0m",
      "\u001b[1;31mModuleNotFoundError\u001b[0m                       Traceback (most recent call last)",
      "Cell \u001b[1;32mIn[21], line 9\u001b[0m\n\u001b[0;32m      7\u001b[0m \u001b[38;5;28;01mimport\u001b[39;00m \u001b[38;5;21;01mglob\u001b[39;00m\n\u001b[0;32m      8\u001b[0m \u001b[38;5;28;01mimport\u001b[39;00m \u001b[38;5;21;01mmatplotlib\u001b[39;00m\u001b[38;5;21;01m.\u001b[39;00m\u001b[38;5;21;01mpyplot\u001b[39;00m \u001b[38;5;28;01mas\u001b[39;00m \u001b[38;5;21;01mplt\u001b[39;00m\n\u001b[1;32m----> 9\u001b[0m \u001b[38;5;28;01mfrom\u001b[39;00m \u001b[38;5;21;01mgoogle\u001b[39;00m\u001b[38;5;21;01m.\u001b[39;00m\u001b[38;5;21;01mcolab\u001b[39;00m\u001b[38;5;21;01m.\u001b[39;00m\u001b[38;5;21;01mpatches\u001b[39;00m \u001b[38;5;28;01mimport\u001b[39;00m cv2_imshow\n\u001b[0;32m     11\u001b[0m \u001b[38;5;28;01mfrom\u001b[39;00m \u001b[38;5;21;01mmodules\u001b[39;00m\u001b[38;5;21;01m.\u001b[39;00m\u001b[38;5;21;01mmetrics\u001b[39;00m \u001b[38;5;28;01mimport\u001b[39;00m ED_distance, norm_ED_distance, DTW_distance\n\u001b[0;32m     12\u001b[0m \u001b[38;5;28;01mfrom\u001b[39;00m \u001b[38;5;21;01mmodules\u001b[39;00m\u001b[38;5;21;01m.\u001b[39;00m\u001b[38;5;21;01mpairwise_distance\u001b[39;00m \u001b[38;5;28;01mimport\u001b[39;00m PairwiseDistance\n",
      "\u001b[1;31mModuleNotFoundError\u001b[0m: No module named 'google.colab'"
     ]
    }
   ],
   "source": [
    "import numpy as np\n",
    "import random\n",
    "from sktime.distances import euclidean_distance, dtw_distance, pairwise_distance\n",
    "from sklearn.metrics import silhouette_score\n",
    "import cv2\n",
    "import imutils\n",
    "import glob\n",
    "import matplotlib.pyplot as plt\n",
    "#from google.colab.patches import cv2_imshow\n",
    "\n",
    "from modules.metrics import ED_distance, norm_ED_distance, DTW_distance\n",
    "from modules.pairwise_distance import PairwiseDistance\n",
    "from modules.clustering import TimeSeriesHierarchicalClustering\n",
    "from modules.classification import TimeSeriesKNN, calculate_accuracy\n",
    "from modules.image_converter import image2ts\n",
    "from modules.utils import read_ts, z_normalize, sliding_window, random_walk\n",
    "from modules.plots import plot_ts"
   ]
  },
  {
   "cell_type": "markdown",
   "metadata": {
    "id": "voz1-GqVLI-B"
   },
   "source": [
    "## **Часть 1.** Функции расстояния: евклидова метрика и DTW мера. Матрица расстояний. Иерархическая кластеризация временных рядов."
   ]
  },
  {
   "cell_type": "markdown",
   "metadata": {
    "id": "c6rirU6j2z8z"
   },
   "source": [
    "### **Задача 1.**\n",
    "Реализуйте самостоятельно функцию `ED_distance()` в модуле *metrics.py*, которая вычисляет евклидово расстояние между двумя временными рядами, имеющими одинаковую длину. В качестве входных данных передайте в функцию два синтетических временных ряда некоторой заданной вами длины. Для их генерации используйте функцию `random_walk()` из модуля *utils.py*,  реализующую модель случайных блужданий (Random Walk), или стандартный модуль *random*.\n",
    "\n",
    "**Евклидово расстояние** между двумя временными рядами $T_1$ и $T_2$ длины $n$ вычисляется следующим образом:\n",
    "\n",
    "\\begin{equation}\n",
    "    \\text{ED}(T_1, T_2) = \\sqrt{\\sum_{i=1}^{n} ({t_{1}}_i-{t_{2}}_i)^2}.\n",
    "\\end{equation}\n",
    "\n",
    "Проверьте реализацию функции, сравнив свои результаты с результатами функции [`euclidean_distance()`](https://www.sktime.net/en/latest/api_reference/auto_generated/sktime.distances.euclidean_distance.html) из библиотеки *sktime*, с помощью `test_distances()`."
   ]
  },
  {
   "cell_type": "code",
   "execution_count": null,
   "metadata": {
    "id": "UonNUuRvoY7p"
   },
   "outputs": [],
   "source": [
    "def test_distances(dist1: float, dist2: float) -> None:\n",
    "    \"\"\"\n",
    "    Check whether your distance function is implemented correctly\n",
    "\n",
    "    Parameters\n",
    "    ----------\n",
    "    dist1 : distance between two time series calculated by sktime\n",
    "    dist2 : distance between two time series calculated by your function\n",
    "    \"\"\"\n",
    "\n",
    "    np.testing.assert_equal(round(dist1, 5), round(dist2, 5), 'Distances are not equal')"
   ]
  },
  {
   "cell_type": "code",
   "execution_count": null,
   "metadata": {
    "id": "sv2QymEGJGH-"
   },
   "outputs": [],
   "source": [
    "# INSERT YOUR CODE"
   ]
  },
  {
   "cell_type": "markdown",
   "metadata": {
    "id": "ThvJ4CrY-DMe"
   },
   "source": [
    "### **Задача 2.**\n",
    "\n",
    "Реализуйте самостоятельно функцию `DTW_distance()` в модуле *metrics.py*, которая вычисляет DTW расстояние между двумя временными рядами, имеющими одинаковую длину. Для вычисления расстояния между элементами временных рядов в DTW мере используйте евклидово расстояние. Временные ряды сгенерируйте аналогичным образом, как в задаче 1, или используйте уже созданные.\n",
    "\n",
    "**Динамическая трансформация временной шкалы (Dynamic Time Warping, DTW)** – мера схожести между двумя временными рядами $T_1$ и $T_2$ длины $n$, вычисляемая следующим образом:\n",
    "\n",
    "\\begin{equation}\n",
    "\\text{DTW}(T_1, T_2) = d(n,n),\n",
    "\\\\ d(i,j) = ({t_{1}}_i - {t_{2}}_j)^2 + \\min \\left\\{\n",
    "\t\\begin{array}{l l}\n",
    "\td(i-1,j), \\\\\n",
    "\td(i,j-1), \\\\\n",
    "\td(i-1,j-1),\n",
    "\t\\end{array}\n",
    "\t\\right.\n",
    "\\\\ d(0,0)=0, \\quad d(i,0)=d(0,j)=\\infty, \\quad  1 \\leqslant i,j \\leqslant n.\n",
    "\\end{equation}\n",
    "\n",
    "Сравните свои результаты с результатами функции [`dtw_distance()`](https://www.sktime.net/en/latest/api_reference/auto_generated/sktime.distances.dtw_distance.html) из библиотеки *sktime*. Для этого используйте `test_distances()` из задачи 1."
   ]
  },
  {
   "cell_type": "code",
   "execution_count": null,
   "metadata": {
    "id": "GU6jTavryBWx"
   },
   "outputs": [],
   "source": [
    "# INSERT YOUR CODE"
   ]
  },
  {
   "cell_type": "markdown",
   "metadata": {
    "id": "V4Li2-bcRzG7"
   },
   "source": [
    "### **Задача 3.**\n",
    "Реализуйте нахождение матрицы расстояний между несколькими временными рядами.\n",
    "Для этого заполните все методы c недостающим кодом в классе `PairwiseDistance` из модуля *pairwise_distance.py*. Для вычисления расстояний между рядами используйте ранее реализованные вами функции `ED_distance()` и `DTW_distance()` из модуля *metrics.py*.\n",
    "\n",
    "Матрица расстояний между временными рядами определяется следующим образом. Пусть дано множество $S$, состоящее из $K$ временных рядов длины $n$: $\\;S = \\{T_1, T_2, ..., T_K\\}, \\; T_i \\in \\mathbb{R}^n$. Тогда под **матрицей расстояний** $D \\in \\mathbb{R}^{K \\times K}$ понимается квадратная матрица, где каждый ее элемент $d(i,j)$ представляет собой расстояние между временными рядами $T_i$ и $T_j$ из множества $S$:\n",
    "\\begin{equation}\n",
    "d(i,j) = dist(T_i, T_j), \\quad T_i, T_j \\in S, \\quad 1 \\leqslant i,j \\leqslant K.\n",
    "\\end{equation}\n",
    "\n",
    "Поскольку евклидова метрика и DTW мера удовлетворяют аксиоме симметричности (т.е. $dist(T_i, T_j)=dist(T_j, T_i)$), то матрица расстояний $D$ будет симметричной относительно главной диагонали. Для ускорения вычислений достаточно найти ее верхний треугольник, а нижний треугольник матрицы заполнить значениями верхнего треугольника следующим образом:\n",
    "\\begin{equation}\n",
    "d(j,i) = d(i,j), \\; где \\; i < j.\n",
    "\\end{equation}\n",
    "\n",
    "<center><img src=\"https://github.com/mzym/TimeSeriesCourse/blob/main/practice/01%20Basics/img/distance_matrix.png?raw=true\" width=\"600\"></center>"
   ]
  },
  {
   "cell_type": "markdown",
   "metadata": {
    "id": "uBHlNCjqqukS"
   },
   "source": [
    "Сгенерируйте множество, состоящее из $K$ временных рядов некоторой длины $n$. Вычислите матрицы евклидовых и DTW расстояний между ними. Проверьте реализованные вами методы, сравнив свои результаты с результатами функции [`pairwise_distance()`](https://www.sktime.net/en/latest/api_reference/auto_generated/sktime.distances.pairwise_distance.html) из библиотеки *sktime*."
   ]
  },
  {
   "cell_type": "code",
   "execution_count": null,
   "metadata": {
    "id": "jTp56wMd-uhN"
   },
   "outputs": [],
   "source": [
    "def test_matrices(matrix1 : np.ndarray, matrix2 : np.ndarray) -> None:\n",
    "    \"\"\"\n",
    "    Check whether your matrix function is implemented correctly\n",
    "\n",
    "    Parameters\n",
    "    ----------\n",
    "    matrix1 : distance matrix calculated by sktime\n",
    "    matrix2 : distance matrix calculated by your function\n",
    "    \"\"\"\n",
    "\n",
    "    np.testing.assert_equal(matrix1.round(5), matrix2.round(5), 'Matrices are not equal')"
   ]
  },
  {
   "cell_type": "code",
   "execution_count": null,
   "metadata": {
    "id": "05a9bmkvkZTR"
   },
   "outputs": [],
   "source": [
    "# INSERT YOUR CODE"
   ]
  },
  {
   "cell_type": "markdown",
   "metadata": {
    "id": "ZKbP0Pt8RyJg"
   },
   "source": [
    "### **Задача 4.**\n",
    "Далее рассмотрим задачу иерархической кластеризации временных рядов, где будет использоваться предвычисленная матрица расстояний.\n",
    "\n",
    "Для этого сначала загрузите набор временных рядов CBF из файла *CBF_TRAIN.txt*, который располагается в директории *./datasets/part1*. Каждая строка данного файла содержит целевую переменную (класс: 0, 1 или 2) в первом столбце и временной ряд в остальных столбцах. Набор CBF является синтетическим и включает в себя 30 временных рядов,  каждый из которых принадлежит к одному из трех классов."
   ]
  },
  {
   "cell_type": "code",
   "execution_count": null,
   "metadata": {
    "id": "DmefHJ64FYGT"
   },
   "outputs": [],
   "source": [
    "url = './datasets/part1/CBF_TRAIN.txt'\n",
    "\n",
    "data = read_ts(url)\n",
    "\n",
    "ts_set = data.iloc[:, 1:]\n",
    "labels = data.iloc[:, 0]"
   ]
  },
  {
   "cell_type": "markdown",
   "metadata": {
    "id": "_4a6AIrT19g3"
   },
   "source": [
    "Выполните визуализацию по одному временному ряду из каждого класса. Для этого используйте функцию `plot_ts()` из модуля *plots.py*."
   ]
  },
  {
   "cell_type": "code",
   "execution_count": null,
   "metadata": {
    "id": "WWnUbJWmy1kB"
   },
   "outputs": [],
   "source": [
    "# INSERT YOUR CODE"
   ]
  },
  {
   "cell_type": "markdown",
   "metadata": {
    "id": "0ryFTWiz_fWA"
   },
   "source": [
    "Далее самостоятельно реализуйте класс `TimeSeriesHierarchicalClustering` из модуля *clustering.py*, который выполняет иерархическую кластеризацию временных рядов.\n",
    "\n",
    "Перед тем как приступить к реализации, изучите скелет этого класса. Реализуйте метод `fit()`, выполняющий кластеризацию данных на основе предвычисленной матрицы расстояний, которая передается в данный метод. Поскольку реализовать иерархическую кластеризацию довольно сложно, используйте готовую реализацию [`AgglomerativeClustering`](https://scikit-learn.org/stable/modules/generated/sklearn.cluster.AgglomerativeClustering.html) из *sklearn*.   \n",
    "\n",
    "Выполните иерархическую кластеризацию загруженных временных рядов CBF для двух функций расстояния: евлидовой метрики и DTW меры.\n",
    "Для этого сначала найдите матрицы расстояний между временными рядами, используя класс `PairwiseDistance`, и передайте каждую матрицу в метод `fit()` для кластеризации.\n",
    "Далее выполните визуализацию результатов в виде дендрограмм с помощью метода `plot_dendrogram()`, передав исходный набор временных рядов и их метки."
   ]
  },
  {
   "cell_type": "code",
   "execution_count": null,
   "metadata": {
    "id": "LOZc-IVCH7OG"
   },
   "outputs": [],
   "source": [
    "# INSERT YOUR CODE"
   ]
  },
  {
   "cell_type": "markdown",
   "metadata": {
    "id": "AKLbiOYSp9us"
   },
   "source": [
    "Сравните результаты иерархической кластеризации, полученные при двух различных функций расстояния, с помощью силуэтного коэффициента. Для этого используйте функцию [`silhouette_score()`](https://scikit-learn.org/stable/modules/generated/sklearn.metrics.silhouette_score.html) из библиотеки *sklearn*, передав в нее предвычисленную матрицу расстояний и предсказанные метки.\n",
    "\n",
    "**Силуэтный коэффициент** – метрика, которая оценивает качество кластеризации на основе исходной выборки и результатов кластеризации без необходимости знания об истинных метках объектов.\n",
    "\n",
    "Силуэтный коэффициент для выборки показывает, насколько среднее расстояние до объектов своего кластера отличается от среднего расстояния до объектов других кластеров. Пусть дана выборка $X$, состоящая из $N$ объектов. Предположим, что объекты этой выборки были разбиты на кластеры $c_1, ... c_K$, $c_i \\in C$, с помощью некоторого алгоритма кластеризации. Тогда силуэтный коэффициент для выборки будет вычисляться следующим образом:\n",
    "\n",
    "\\begin{equation}\n",
    "sil\\_coef = \\frac{1}{N} \\sum_{c_k \\in C} \\sum_{x_i \\in c_k} \\frac{b(x_i, c_k) - a(x_i, c_k)}{\\max(a(x_i, c_k), b(x_i, c_k))},\n",
    "\\end{equation}\n",
    "\n",
    "где $a(x_i, c_k)$ – среднее расстояние от объекта $x_i \\in c_k$ до других объектов из этого же кластера $c_k$; <br> $b(x_i, c_k)$  – среднее расстояние от объекта $x_i \\in c_k$ до объектов из другого кластера $c_l$, $k \\neq l$.\n",
    "\n",
    "Силуэтный коэффициент принимает значения от  −1  до  1:\n",
    "*   –1 означает, что кластеры плохие, размытые;\n",
    "*   0 означает, что кластеры накладываются друг на друга;\n",
    "*   1 означает, что кластеры плотные и хорошо отделены друг от друга.\n",
    "\n",
    "Таким образом, чем ближе значение коэффициента к 1, тем лучше кластеризованы данные."
   ]
  },
  {
   "cell_type": "code",
   "execution_count": null,
   "metadata": {
    "id": "awXYWGphqCbQ"
   },
   "outputs": [],
   "source": [
    "# INSERT YOUR CODE"
   ]
  },
  {
   "cell_type": "markdown",
   "metadata": {
    "id": "CRfDkih_AGuB"
   },
   "source": [
    "![equation.png](data:image/png;base64,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)\n",
    "Проанализируйте полученные результаты кластеризации с помощью построенных дендрограмм и вычисленных силуэтных коэффициентов. Какая, на ваш взгляд, функция расстояния показала лучший результат и почему? Укажите, в каких случаях более предпочтительно использовать DTW меру, чем евклидову метрику."
   ]
  },
  {
   "cell_type": "markdown",
   "metadata": {
    "id": "vxDN87yuAQ9l"
   },
   "source": [
    "*# WRITE YOUR ANSWER*"
   ]
  },
  {
   "cell_type": "markdown",
   "metadata": {
    "id": "1f2_mgETwkZY"
   },
   "source": [
    "## **Часть 2.** $Z$-нормализация временных рядов."
   ]
  },
  {
   "cell_type": "markdown",
   "metadata": {
    "id": "BvVfiEMTvl0o"
   },
   "source": [
    "### **Задача 5.**\n",
    "Реализуйте функцию вычисления нормализованного евклидова расстояния между временными рядами `norm_ED_distance()` в модуле *metrics.py* и проверьте правильность своей реализации, сравнив полученные результаты с результатами функции [`ed_distance()`](https://www.sktime.net/en/latest/api_reference/auto_generated/sktime.distances.euclidean_distance.html) из библиотеки *sktime*, в которую необходимо передать <u>нормализованные</u> временные ряды. Для нормализации временных рядов используйте функцию `z-normalize()` из *utils.py*.  Для проверки можно использовать синтетические временные ряды из первой части или заново их сгенерировать.\n",
    "\n",
    "**Нормализованная евклидова метрика** между двумя временными рядами $T_1$ и $T_2$ длины $n$ вычисляется следующим образом:\n",
    "\n",
    "\\begin{equation}\n",
    "\t\\text{ED}_{norm}(T_1, T_2) = \\sqrt {\\Big|\\; 2n\\left(1-\\dfrac{<T_1, T_2> - \\; n \\; \\cdotp \\mu_{T_1} \\; \\cdotp \\mu_{T_2}}{n \\; \\cdotp \\sigma_{T_1} \\; \\cdotp \\sigma_{T_2}}\\right)\\Big|},\n",
    "\\end{equation}\n",
    "\n",
    "где $<T_1, T_2>$ – скалярное произведение временных рядов, $\\mu_{T_1}$ и $\\mu_{T_2}$, $\\sigma_{T_1}$ и $\\sigma_{T_2}$ – среднее арифметическое и стандартное отклонение временных рядов соответственно.\n",
    "\n",
    "**Среднее арифметическое** $\\mu_T$ и **стандартное отклонение** $\\sigma_T$ временного ряда $T$ длины $n$ вычисляются по следующим формулам:\n",
    "\n",
    "\\begin{equation}\n",
    "\t\\mu_{T} = \\frac{1}{n}\\sum\\limits_{i=1}^{n} t_{i}, \\\\[1em]\n",
    "\t\\sigma_{T} = \\sqrt{\\frac{1}{n}\\sum\\limits_{i=1}^{n} t_i^2-\\mu_{T}^2}.\n",
    "\\end{equation}"
   ]
  },
  {
   "cell_type": "code",
   "execution_count": null,
   "metadata": {
    "id": "4CWvwwuQJNPP"
   },
   "outputs": [],
   "source": [
    "# INSERT YOUR CODE"
   ]
  },
  {
   "cell_type": "markdown",
   "metadata": {
    "id": "Fd-Ytm-3up37"
   },
   "source": [
    "### **Задача 6.**\n",
    "Далее убедимся, что выполнение $z$-нормализации на этапе предобработки данных имеет важное значение и может повысить точность решаемой задачи.\n",
    "\n",
    "В данном задании вы продолжите решать задачу иерархической кластеризации. В качестве данных будут использоваться два временных ряда из набора данных [BIDMC](https://physionet.org/content/chfdb/1.0.0/). Набор BIDMC состоит из записей ЭКГ-сигналов, снятых с 15 пациентов с сердечной недостаточностью тяжелой степени.  \n",
    "\n",
    "Загрузите два временных ряда и визуализируйте их с помощью функции `plot_ts()` из модуля *plots.py*."
   ]
  },
  {
   "cell_type": "code",
   "execution_count": null,
   "metadata": {
    "id": "Ej1vG79L3Ns-"
   },
   "outputs": [],
   "source": [
    "url1 = './datasets/part2/chf10.csv'\n",
    "ts1 = read_ts(url1)\n",
    "\n",
    "url2 = './datasets/part2/chf11.csv'\n",
    "ts2 = read_ts(url2)"
   ]
  },
  {
   "cell_type": "code",
   "execution_count": null,
   "metadata": {
    "id": "e7lUvTjb7dMa"
   },
   "outputs": [],
   "source": [
    "ts_set = np.concatenate((ts1, ts2), axis=1).T"
   ]
  },
  {
   "cell_type": "code",
   "execution_count": null,
   "metadata": {
    "id": "zBqBgXL_dr-K"
   },
   "outputs": [],
   "source": [
    "plot_ts(ts_set)"
   ]
  },
  {
   "cell_type": "markdown",
   "metadata": {
    "id": "voNtTQAg0aR5"
   },
   "source": [
    "Разделите каждый временной ряд на непересекающиеся подпоследовательности с помощью техники скользящего окна. Для этого используйте функцию `sliding_window()` из модуля *utils.py*, передав в нее временной ряд, заданную длину подпоследовательности и величину шага. В нашем случае, величина шага равна длине подпоследовательности."
   ]
  },
  {
   "cell_type": "code",
   "execution_count": null,
   "metadata": {
    "id": "ptVJWErHuts_"
   },
   "outputs": [],
   "source": [
    "m = 125\n",
    "subs_set1 = sliding_window(ts_set[0], m, m-1)\n",
    "subs_set2 = sliding_window(ts_set[1], m, m-1)"
   ]
  },
  {
   "cell_type": "markdown",
   "metadata": {
    "id": "JyZmw7l8rEmg"
   },
   "source": [
    "Сформируйте множество всех подпоследовательностей, извлеченных из двух временных рядов, и массив меток подпоследовательностей в соответствии с их принадлежностью к временному ряду."
   ]
  },
  {
   "cell_type": "code",
   "execution_count": null,
   "metadata": {
    "id": "wk2HrKVJzATk"
   },
   "outputs": [],
   "source": [
    "subs_set = np.concatenate((subs_set1[0:15], subs_set2[0:15]))\n",
    "labels = np.array([0]*subs_set1[0:15].shape[0] + [1]*subs_set2[0:15].shape[0])"
   ]
  },
  {
   "cell_type": "markdown",
   "metadata": {
    "id": "xNc4ihIRu2Xt"
   },
   "source": [
    "Добавьте в класс `PairwiseDistance` из модуля *pairwise_distance.py* возможность вычисления нормализованной евклидовой метрики между временными рядами. Если матрица расстояний строится для нормализованных временных рядов на основе евклидовой метрики, то должна вызываться функция `norm_ED_distance()`. Для остальных метрик/мер схожести перед нахождением матрицы расстояний временные ряды должны подтвергаться $z$-нормализации с помощью функции `z_normalize()` из модуля *utils.py*.\n",
    "\n",
    "Далее выполните иерархическую кластеризацию подпоследовательностей двух временных рядов с использованием предварительно построенных матриц расстояний на основе классической и нормализованной евклидовой метрики."
   ]
  },
  {
   "cell_type": "code",
   "execution_count": null,
   "metadata": {
    "id": "0s6Bcgims7r5"
   },
   "outputs": [],
   "source": [
    "# INSERT YOUR CODE"
   ]
  },
  {
   "cell_type": "markdown",
   "metadata": {
    "id": "WuquG9oFvJOo"
   },
   "source": [
    "Вычислите силуэтные коэффициенты для оценки качества кластеризации с нормализацией и без нее, как это было сделано в задаче 4 части 1."
   ]
  },
  {
   "cell_type": "code",
   "execution_count": null,
   "metadata": {
    "id": "ODvZDF2pvNR3"
   },
   "outputs": [],
   "source": [
    "# INSERT YOUR CODE"
   ]
  },
  {
   "cell_type": "markdown",
   "metadata": {
    "id": "KX8flrMwQnJi"
   },
   "source": [
    "![equation.png](data:image/png;base64,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)\n",
    "Сравните полученные результаты кластеризации с помощью построенных дендрограмм и вычисленных силуэтных коэффициентов. Позволила ли $z$-нормализации временных рядов повысить качество кластеризации?"
   ]
  },
  {
   "cell_type": "markdown",
   "metadata": {
    "id": "gg6MjxpSSKq3"
   },
   "source": [
    "*# WRITE YOUR ANSWER*"
   ]
  },
  {
   "cell_type": "markdown",
   "metadata": {
    "id": "pEVntMKowu8O"
   },
   "source": [
    "## **Часть 3.** Классификация изображений, представленных в виде временных рядов."
   ]
  },
  {
   "cell_type": "markdown",
   "metadata": {
    "id": "XKIw--vpLJzk"
   },
   "source": [
    "### **Задача 7.**\n",
    "В данном задании вам предстоит выполнить преобразование изображения, на котором находится некоторый объект, во временной ряд. Для этого вы реализуете один из существующих методов, предложенный в [статье Кеога и др](https://dl.acm.org/doi/10.5555/1182635.1164203).\n",
    "\n",
    "Данный метод заключается в том, что сначала на изображении выполняется поиск контура $E = \\{e_i\\}_{i=1}^L$, где $e_i$ – точки контура, и центра масс объекта $O$. Затем берутся точки, расположенные на контуре объекта, следующим образом.\n",
    "\n",
    "Рассмотрим луч $OP$ с началом в центре масс объекта $O$, направление которого совпадает с положительным направлением оси Ox (см. рисунок). Далее выполняется поворот против часовой стрелки луча $OP$ вокруг центра масс $O$ на некоторый заданный угол $α$, $1° \\leqslant α \\leqslant 360°$. Поворот луча будет осуществляться до тех пор, пока луч не пройдет полный оборот. Все точки $P = \\{P_i\\}_{i=1}^K$, $P_i \\in E$, $K = \\lfloor \\frac{360°}{α} \\rfloor$, образованные пересечением луча $OP$ с контуром $E$ во время поворота, будут являться искомыми.\n",
    "\n",
    "На завершающем шаге метода вычисляются расстояния между центром масс объекта $O$ и найденными точками на контуре $P$. В качестве функции расстояния может быть использовано манхэттенское или евклидово расстояние. Полученные расстояния будут формировать временной ряд $T$ длины $K$:\n",
    "\\begin{equation}\n",
    "T = \\{t_i\\}_{i=1}^K,\\;где \\; t_i = dist(O, P_i), \\; P_i \\in P.\n",
    "\\end{equation}\n",
    "\n",
    "\\\n",
    "<center><img src=\"https://github.com/mzym/TimeSeriesCourse/blob/main/practice/01%20Basics/img/image2ts.png?raw=true\" width=\"1000\"></center>"
   ]
  },
  {
   "cell_type": "markdown",
   "metadata": {
    "id": "KyWPcg5sw360"
   },
   "source": [
    "Поскольку часть 3 предполагает работу с изображениями, то вы будете использовать для реализации некоторых частей кода библиотеку компьютерного зрения *cv2*. Для поиска всех необходимых функций рекомендуем воспользоваться [документацией библиотеки cv2](https://docs.opencv.org/4.x/d6/d00/tutorial_py_root.html).\n",
    "\n",
    "Загрузите изображение *example.tif* из директории *./datasets/part3* и выполните его визуализацию с помощью соответствующих функций из библиотеки *cv2*."
   ]
  },
  {
   "cell_type": "code",
   "execution_count": null,
   "metadata": {
    "id": "u5K9vZtgw7CX"
   },
   "outputs": [],
   "source": [
    "# INSERT YOUR CODE"
   ]
  },
  {
   "cell_type": "markdown",
   "metadata": {
    "id": "SA2dUqaAw_S3"
   },
   "source": [
    "За конвертацию изображения во временной ряд с помощью описанного выше метода отвечает функция `image2ts()` из модуля *image_converter.py*. Прежде чем исходное изображение будет преобразовано во временной ряд, сначала оно должно пройти этап предварительной обработки. Предварительная обработка включает в себя следующие шаги:\n",
    "\n",
    "<center><img src=\"https://github.com/mzym/TimeSeriesCourse/blob/main/practice/01%20Basics/img/image_preprocessing.png?raw=true\" width=\"1000\"></center>\n",
    "\n",
    "Предобработка изображения в `image2ts()` осуществляется с помощью функции `_img_preprocess()`. Реализуйте в данной функции все представленные на диаграмме шаги предварительной обработки средствами библиотеки *cv2*. Промежуточные результаты должны совпадать с представленными на диаграмме.\n",
    "\n",
    "Далее выполните конвертацию изображения во временной ряд, передав в функцию `image2ts()` следующие заданные вами аргументы:\n",
    "*   исходное загруженное изображение;\n",
    "*   шаг угла поворота;\n",
    "*   параметр, определяющий нужно или нет визуализировать изображение с выделенными на нем контуром, центром масс и лучами, проведенными из центра.\n",
    "\n",
    "Визуализируйте полученный временной ряд.\n"
   ]
  },
  {
   "cell_type": "code",
   "execution_count": null,
   "metadata": {
    "id": "edKiXoEOxJJC"
   },
   "outputs": [],
   "source": [
    "angle_step = 20\n",
    "visualize = True\n",
    "\n",
    "ts = image2ts(img, angle_step, visualize)\n",
    "plot_ts(np.array([ts]), \"Time series representation of image\")"
   ]
  },
  {
   "cell_type": "markdown",
   "metadata": {
    "id": "YbZ1-p3J37lU"
   },
   "source": [
    "### **Задача 8.**\n",
    "\n",
    "Выполните классификацию изображений, представленных в виде временных рядов, с помощью метода $k$ ближайших соседей (kNN).\n",
    "\n",
    "**Метод $k$ ближайших соседей (kNN)** – алгоритм классификации, заключающийся в вычислении сходства между объектами на основе некоторой заданной метрики/меры схожести. Классифицируемый объект относится к тому классу, к которому принадлежит большинство из его $k$ соседей ($k$ ближайших к нему объектов из обучающей выборки).\n",
    "\n",
    "Для классификации на основе алгоритма kNN необходимо выполнить следующие шаги:\n",
    "\n",
    "1. Загрузить обучающую и тестовую выборки.\n",
    "\n",
    "2. Задать параметр алгоритма $k$, где $k$ – количество ближайших соседей, $k \\in \\mathbb N^*$.\n",
    "\n",
    "3. Для каждого объекта из тестовой выборки выполнить следующее:\n",
    "\n",
    "    3.1. Вычислить расстояние до всех объектов из обучающей выборки на основе заданной метрики/меры схожести.\n",
    "    \n",
    "    3.2. Отсортировать в порядке возрастания найденные расстояния.\n",
    "\n",
    "    3.3. Найти $k$ ближайших соседей, взяв первые $k$ минимальные расстояния из отсортированного массива расстояний.\n",
    "\n",
    "    3.4. Назначить объекту из тестовой выборки наиболее часто встречающийся класс найденных ранее ближайших соседей.\n",
    "\n",
    "\n",
    "Для этого задания вам предлагается набор данных, который содержит изображения листьев четырех различных пород деревьев: дуб, ольха, ива и липа. Набор данных состоит из обучающей и тестовой выборок, включающих по 15 и 10 изображений листьев на класс соответственно. Для составления этого набора данных изображения были взяты из [Swedish Leaf Dataset](https://www.cvl.isy.liu.se/en/research/datasets/swedish-leaf/).\n",
    "\n",
    "Загрузите изображения из обучающей и тестовой выборок, а также их метки, используя `read_images()` и `read_ts()` соответственно.\n",
    "Выполните визуализацию прецедентов выборки с помощью функции `plot_images()`.\n"
   ]
  },
  {
   "cell_type": "code",
   "execution_count": null,
   "metadata": {
    "id": "P4qhn1634PPR"
   },
   "outputs": [],
   "source": [
    "def read_images(dir: str) -> list[np.ndarray]:\n",
    "    \"\"\"\n",
    "    Load all images from a directory\n",
    "\n",
    "    Parameters\n",
    "    ----------\n",
    "    dir: directory path\n",
    "\n",
    "    Returns\n",
    "    -------\n",
    "    images: images from a directory\n",
    "    \"\"\"\n",
    "\n",
    "    images = []\n",
    "    for img_path in sorted(glob.glob(dir)):\n",
    "        cv_img = cv2.imread(img_path)\n",
    "        images.append(cv_img)\n",
    "\n",
    "    return images"
   ]
  },
  {
   "cell_type": "code",
   "execution_count": null,
   "metadata": {
    "id": "WRi1hxpPViVE"
   },
   "outputs": [],
   "source": [
    "def plot_images(images: list[np.ndarray], labels: np.ndarray, class_names: list[str]) -> None:\n",
    "    \"\"\"\n",
    "    Plot some images from dataset\n",
    "\n",
    "    Parameters\n",
    "    ----------\n",
    "    images: dataset of images\n",
    "    labels: labels of images\n",
    "    class_names: class names of images\n",
    "    \"\"\"\n",
    "\n",
    "    rows = 2\n",
    "    columns = 4\n",
    "\n",
    "    fig, axes = plt.subplots(nrows=rows, ncols=columns, figsize=(columns*2, rows*3))\n",
    "\n",
    "    for num in range(1, rows*columns+1):\n",
    "        fig.add_subplot(rows, columns, num)\n",
    "        idx = num - 1\n",
    "        plt.imshow(images[idx], aspect='auto')\n",
    "        plt.title(f'{class_names[labels[idx]]}', fontsize=10)\n",
    "\n",
    "    fig.tight_layout()\n",
    "\n",
    "    for idx, ax in enumerate(axes.flat):\n",
    "        ax.set_xticks([])\n",
    "        ax.set_yticks([])"
   ]
  },
  {
   "cell_type": "code",
   "execution_count": null,
   "metadata": {
    "id": "6LYlleFcxTGv"
   },
   "outputs": [],
   "source": [
    "train_set_path = \"./datasets/part3/train_set_leaves/*.tif\"\n",
    "test_set_path = \"./datasets/part3/test_set_leaves/*.tif\"\n",
    "\n",
    "train_images = read_images(train_set_path)\n",
    "test_images = read_images(test_set_path)\n",
    "\n",
    "train_label_path = './datasets/part3/train_set_leaves/train_label.csv'\n",
    "test_label_path = './datasets/part3/test_set_leaves/test_label.csv'\n",
    "\n",
    "train_labels = read_ts(train_label_path)\n",
    "train_labels = train_labels.reshape(-1).astype('int32')\n",
    "\n",
    "test_labels = read_ts(test_label_path)\n",
    "test_labels = test_labels.reshape(-1).astype('int32')"
   ]
  },
  {
   "cell_type": "code",
   "execution_count": null,
   "metadata": {
    "id": "Mxibv3gGxToN"
   },
   "outputs": [],
   "source": [
    "class_names = ['Quercus (дуб)', 'Alnus (ольха)', 'Salix (ива)', 'Tilia (липа)']\n",
    "plot_images(train_images, train_labels, class_names)"
   ]
  },
  {
   "cell_type": "markdown",
   "metadata": {
    "id": "ge9b7ztIxXCo"
   },
   "source": [
    "Выполните преобразование изображений обучающей и тестовой выборок во временные ряды с помощью функции `image2ts()`.  "
   ]
  },
  {
   "cell_type": "code",
   "execution_count": null,
   "metadata": {
    "id": "fpDi7VN1xXwo"
   },
   "outputs": [],
   "source": [
    "# INSERT YOUR CODE"
   ]
  },
  {
   "cell_type": "markdown",
   "metadata": {
    "id": "fXWq_cM6vUbK"
   },
   "source": [
    "Для классификации временных рядов методом $k$ ближайших соседей вам необходимо использовать класс `TimeSeriesKNN` из модуля *classification.py*.\n",
    "Реализуйте метод `fit()` в классе `TimeSeriesKNN`, который выполняет поиск для каждого элемента из тестовой выборки $k$ ближайших соседей и назначает им тот класс, который является часто встречающимся среди классов ближайших соседей. В качестве параметров в метод `fit()` передается тестовая выборка. Вычислите точность классификации по метрике accuracy с помощью функции `calculate_accurary()` из модуля *classification.py*."
   ]
  },
  {
   "cell_type": "code",
   "execution_count": null,
   "metadata": {
    "id": "rttBJwnkyYT9"
   },
   "outputs": [],
   "source": [
    "n_neighbors = 6\n",
    "metric = 'euclidean'\n",
    "metric_params = {'normalize': True}\n",
    "\n",
    "# INSERT YOUR CODE"
   ]
  },
  {
   "cell_type": "code",
   "execution_count": null,
   "metadata": {
    "id": "QCBAiXuAzLpQ"
   },
   "outputs": [],
   "source": [
    "metric = 'dtw'\n",
    "metric_params = {'normalize': True}\n",
    "\n",
    "# INSERT YOUR CODE"
   ]
  },
  {
   "cell_type": "markdown",
   "metadata": {
    "id": "6Fbfsej4XKX4"
   },
   "source": [
    "![equation.png](data:image/png;base64,iVBORw0KGgoAAAANSUhEUgAAACAAAAAgCAYAAABzenr0AAAABGdBTUEAALGPC/xhBQAAACBjSFJNAAB6JgAAgIQAAPoAAACA6AAAdTAAAOpgAAA6mAAAF3CculE8AAAACXBIWXMAAA7EAAAOxAGVKw4bAAABy2lUWHRYTUw6Y29tLmFkb2JlLnhtcAAAAAAAPHg6eG1wbWV0YSB4bWxuczp4PSJhZG9iZTpuczptZXRhLyIgeDp4bXB0az0iWE1QIENvcmUgNS40LjAiPgogICA8cmRmOlJERiB4bWxuczpyZGY9Imh0dHA6Ly93d3cudzMub3JnLzE5OTkvMDIvMjItcmRmLXN5bnRheC1ucyMiPgogICAgICA8cmRmOkRlc2NyaXB0aW9uIHJkZjphYm91dD0iIgogICAgICAgICAgICB4bWxuczp0aWZmPSJodHRwOi8vbnMuYWRvYmUuY29tL3RpZmYvMS4wLyIKICAgICAgICAgICAgeG1sbnM6eG1wPSJodHRwOi8vbnMuYWRvYmUuY29tL3hhcC8xLjAvIj4KICAgICAgICAgPHRpZmY6T3JpZW50YXRpb24+MTwvdGlmZjpPcmllbnRhdGlvbj4KICAgICAgICAgPHhtcDpDcmVhdG9yVG9vbD53d3cuaW5rc2NhcGUub3JnPC94bXA6Q3JlYXRvclRvb2w+CiAgICAgIDwvcmRmOkRlc2NyaXB0aW9uPgogICA8L3JkZjpSREY+CjwveDp4bXBtZXRhPgoE1OjLAAAFaklEQVRYCbVXTWhcVRQ+5755MxMNWInRqhBLFxYbUSEUKS7MyoAuuko3/mUSdVFJM0LNQpRM/MNaJA1BxGBirbjprFy4leIiFKyWoMGfggUtFRQhTZvMZN677/idO/PSl/lpZgTv8N7c3/Ode75zzr2PaYciREyFAnOhEMl4rhfNp8njJyWyD5KVO4lF2Hh/iTG/ou9r45kveGbxNxUrQsxMENG6cOshCFBwFLxEjuZyqLxLvr+brCV9JKrKZmOIPH08oiBYJzLv8+zCm7p2JyWw6iZFd64yXhl7i9L+IjTaLeVyKEFoxUK00xHjNhL0RRHGyEa3UsafthO5z1WyWiDeSDOklgrI8LDnzJ4fO0ap1OtSKluJoggiU04QBMO+rsAyThnGGNBE1kuByWSecYrr5OHhljhNKZBCwTjwo88PCJnzpLhE+lJBllMpz/ES2A1huEAq1aUqSBiCGwIPaME12PPAEw/w3OJyLBNj20pzzaamdEfYrCk4fsEsWgZiLfu+B/7PUWSfgC36TcqDM9qntI99KAYFdSV+IWnb0CjaRPtXmm62oVP5crznR3aRmIvg/g4qlXVLFfZSaezsAnnXH+OZYskJrr1AWRfd072E1Y9IaJ3JOOUZyFvmjeUDPP9dEMtOrmuwgANXJU6eWkWIDVElOAXvvsrZbJqMjpoxBQdgGnwjCPGMj2e4CIVY5lwkCHrVCkpdaPuum/23J0GT9QYFdPCGEp9+z7OLOUh5iILwA4xM8tzCBeegxWJFPVwf6ulRilDMnxqeWtEXRlRWujvD2bjt/hOvqkcnOuKqUwLOSCsrzLOnf0f/sa2xYtGhxG26ckW5jyiSe8E7PCaMQJUhzQ9E12DPNTcXQutLk676KdhITRHq7xeNjuSMJK/RxOgS4vJgLRpInRJsfGNOLj6enJdc35SC5AStKyg4ts3A4xiXidF34HQHNUlhSdUiyIwcyVdOXmFQ+xpKWwo0rEKHo1czJRST/Ggeqfg12axEIN2FInvGhyX+gE8suPWFs9tpqwn9zwpsHVATo68iX8wAXEUqpYhYVUN3TxP84el/nNM6nWuoib+2fCAx31VrUWBtPjdpUv5xpOmqvzt4ibgrq8nqDZ5ZeDueWy8jbndsgVggTsdDxnjHIwcOcZr7sEvOZrzIhu85cE3p9RETI9f+O7JA7Mly5Ei3+KVlYO4V6wLfg9ktZ9MeQvEEz3wyCe/HsNMKy1qXziwQn2p+eQgHzd7E4WM5gzMitMUtcGBidzcFV7U6U6C/31kMp/IBOJ4iKAC2Sp6EQUgcTKlQOnzYIB/sCK5TW2ZCHWwoKytOKK5dd+M6hGEHEiHjeVDiEq3yJbemWNyWrBrkJDo6s8CZM1XBxtylaRa79PF4mn5xJyxR+oemsZ7Aa6h2psD0tKMAu/+RKpVrCPjLYOAy7oFrcLpv3ZGrF5E2uI81qQqMW23+gwemkZHbaBcWrNYW7dmzVp+q2xTX+TR3ONUtc2FX1/e/NGNwtYLkn30Ah9C+GCgei9vt/HdEwY0s+MIAEv1HItHDuJMKPlTO4XvhRT7x8UVVohMq2lYgFiwTL/UR2/M4/XrdAQRP5K4MrqDhL7SRepTn56+qddp1xA6i4Gx1bhSMIewUfBMm1nOP8LFSwbfDPpsNhp3ZW5z9zShpX4GVXmwMxUhf7d6n575aUB9c2fV2Gt2HOsqge7fzal+B/r8VSG9+P1dvvu7+Hyd7XEQYuYl/cnNqGdPVd3hVhe4wSYdjXuXl53rgcEvke/dLadNZhW/pYipvLlHZH4QPNL3/t4Jo2wLQVJwj4oaDj58hCuyX2PUms1nHt8NnVC4fcuAdZsJ/AXftccLBDqQ4AAAAAElFTkSuQmCC)\n",
    "Проанализируйте результаты и сделайте выводы."
   ]
  },
  {
   "cell_type": "markdown",
   "metadata": {
    "id": "b2YG3zbeXLgQ"
   },
   "source": [
    "*# WRITE YOUR ANSWER*"
   ]
  }
 ],
 "metadata": {
  "colab": {
   "provenance": [],
   "toc_visible": true
  },
  "kernelspec": {
   "display_name": "Python 3 (ipykernel)",
   "language": "python",
   "name": "python3"
  },
  "language_info": {
   "codemirror_mode": {
    "name": "ipython",
    "version": 3
   },
   "file_extension": ".py",
   "mimetype": "text/x-python",
   "name": "python",
   "nbconvert_exporter": "python",
   "pygments_lexer": "ipython3",
   "version": "3.12.4"
  }
 },
 "nbformat": 4,
 "nbformat_minor": 4
}
